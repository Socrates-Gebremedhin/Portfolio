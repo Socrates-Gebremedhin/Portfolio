{
 "cells": [
  {
   "cell_type": "markdown",
   "id": "1ddece6f",
   "metadata": {},
   "source": [
    "# Car Price Analysis"
   ]
  },
  {
   "cell_type": "markdown",
   "id": "59ac7e48",
   "metadata": {},
   "source": [
    "The purpose of this analysis is to check if in fact car prices will appreciate for over **`100%`**. More specifically, I want to extract relevant `car make` and `car models` that has the potential to appreciate over **`100%`**. \n",
    "\n",
    "Car Price analysis has been extracted from 'EthioCarMarket' and 'BisreCarPrice' telegram pages.\n",
    "All data has been cleaned and ready for analysis using the below code."
   ]
  },
  {
   "cell_type": "markdown",
   "id": "c0b6c631",
   "metadata": {},
   "source": [
    "## code for cleaning data"
   ]
  },
  {
   "cell_type": "code",
   "execution_count": 1,
   "id": "815c4380",
   "metadata": {},
   "outputs": [],
   "source": [
    "import warnings\n",
    "warnings.filterwarnings('ignore')"
   ]
  },
  {
   "cell_type": "code",
   "execution_count": 2,
   "id": "8ed27577",
   "metadata": {},
   "outputs": [],
   "source": [
    "# -*- coding: utf-8 -*-\n",
    "\"\"\"\n",
    "Created on Thu Sep 22 18:03:32 2022\n",
    "\n",
    "@author: socrates\n",
    "\"\"\"\n",
    "\n",
    "import pandas as pd\n",
    "\n",
    "\n",
    "json_file_1 = \"Ethio_Car_Market.json\"\n",
    "json_file_2 = \"Bisre_Car_Market.json\"\n",
    "df_e = pd.read_json(json_file_1)\n",
    "df_b = pd.read_json(json_file_2)\n",
    "\n",
    "e_msg = df_e[[\"date\",\"message\"]][df_e[\"message\"]!='']\n",
    "\n",
    "b_msg = df_b[[\"date\",\"message\"]][df_b[\"message\"]!='']\n",
    "\n",
    "e_msg.dropna(inplace = True)\n",
    "b_msg.dropna(inplace = True)\n",
    "e_msg.reset_index(inplace = True, drop = True)\n",
    "b_msg.reset_index(inplace = True, drop = True)\n",
    "msg = pd.concat([e_msg,b_msg]).reset_index(drop = True)\n",
    "msg.drop_duplicates(subset = \"date\", inplace = True)\n",
    "msg.sort_values(\"date\")\n",
    "\n",
    "msg[\"message\"] = msg[\"message\"].apply(lambda x: x.lower().split())\n",
    "\n",
    "\n",
    "msg[\"len\"] = msg[\"message\"].apply(lambda x:len(x))\n",
    "msg = msg[msg[\"len\"]>4]\n",
    "\n",
    "\n",
    "def makeId(x,clm):\n",
    "    \"\"\"\n",
    "    defines make column \n",
    "    \"\"\"\n",
    "    num = 0\n",
    "    for n, i in enumerate(x):\n",
    "        if clm in i:\n",
    "            num = n\n",
    "    if clm in x[num]:\n",
    "        ret = x[num][x[num].find(\":\")+1:]\n",
    "        if ret.isalnum() and ret != clm:\n",
    "            return ret\n",
    "        else:\n",
    "            return \"\"\n",
    "    else:\n",
    "        return \"\"\n",
    "\n",
    "def makeClmn(x,lst_id):\n",
    "    found = False\n",
    "    for i in lst_id:\n",
    "        for k in x:\n",
    "            if i in k:\n",
    "                found = True\n",
    "                return i\n",
    "            else:\n",
    "                continue\n",
    "    if not found:\n",
    "        return \"\"\n",
    "\n",
    "def create_cols(col_lst,col_names):\n",
    "    for n, i in enumerate(col_lst):\n",
    "        msg[i + \"_id\"] = msg[\"message\"].apply(lambda x:makeId(x,i))\n",
    "        cid = list(msg[i + \"_id\"].unique())\n",
    "        cid.remove(\"\")\n",
    "        \n",
    "        msg[col_names[n]] = msg[\"message\"].apply(lambda x:makeClmn(x,cid))\n",
    "        \n",
    "def has_numbers(inputString):\n",
    "    return any(char.isdigit() for char in inputString) \n",
    "\n",
    "def extract_numbers(inputString):\n",
    "    if type(inputString) is str:\n",
    "        number = \"\".join([char for char in inputString if char.isdigit()])\n",
    "        if number!='፪' and (number[:3] != '251') and (number[0]!=0):\n",
    "            return int(number)\n",
    "        else:\n",
    "            return 0\n",
    "\n",
    "def price_col(x):\n",
    "    price = 0\n",
    "    for i in x:\n",
    "        if has_numbers(i):\n",
    "            num = extract_numbers(i)\n",
    "            if (num >= 800_000) and (num <= 6_000_000):\n",
    "                price = num\n",
    "                break\n",
    "    return price\n",
    "\n",
    "\n",
    "\n",
    "create_cols([\"make\",\"model\",\"year\"],[\"make\",\"model\",\"model_year\"])\n",
    "\n",
    "mask = (msg[\"make\"]!=\"\") & (msg[\"model\"]!=\"\") & (msg[\"model_year\"]!=\"\")\n",
    "\n",
    "msg_msk = msg[mask]\n",
    "\n",
    "msg_msk[\"price\"] = msg[\"message\"].apply(lambda x: price_col(x))\n",
    "\n",
    "fmsg = msg_msk[msg_msk[\"price\"]!=0][[\"date\",\"make\",\"model\",\"model_year\",\"price\"]]\n",
    "fmsg = fmsg.set_index(\"date\")"
   ]
  },
  {
   "cell_type": "markdown",
   "id": "ff8c079d",
   "metadata": {},
   "source": [
    "## Results for the data cleaning"
   ]
  },
  {
   "cell_type": "markdown",
   "id": "473c3699",
   "metadata": {},
   "source": [
    "### Size of data before cleaning"
   ]
  },
  {
   "cell_type": "code",
   "execution_count": 3,
   "id": "76f3a672",
   "metadata": {},
   "outputs": [
    {
     "data": {
      "text/plain": [
       "8290"
      ]
     },
     "execution_count": 3,
     "metadata": {},
     "output_type": "execute_result"
    }
   ],
   "source": [
    "msg.shape[0]"
   ]
  },
  {
   "cell_type": "markdown",
   "id": "75afc64e",
   "metadata": {},
   "source": [
    "### Size of data after cleaning"
   ]
  },
  {
   "cell_type": "markdown",
   "id": "04a9551d",
   "metadata": {},
   "source": [
    "The size of data has been reduced since most of the data are either advertizments, other announcments like `item being sold` and some informations missing like `make` or `model`, `model_year` or `price`"
   ]
  },
  {
   "cell_type": "code",
   "execution_count": 4,
   "id": "77c8f285",
   "metadata": {},
   "outputs": [
    {
     "name": "stdout",
     "output_type": "stream",
     "text": [
      "3230\n"
     ]
    }
   ],
   "source": [
    "size_of_data_used_for_anaysis = fmsg.shape[0]\n",
    "print(size_of_data_used_for_anaysis)"
   ]
  },
  {
   "cell_type": "markdown",
   "id": "5770bb25",
   "metadata": {},
   "source": [
    "so a total of `3230` data points has been used for this analysis"
   ]
  },
  {
   "cell_type": "markdown",
   "id": "739bf687",
   "metadata": {},
   "source": [
    "### High Level overview of the data"
   ]
  },
  {
   "cell_type": "markdown",
   "id": "0dbe308f",
   "metadata": {},
   "source": [
    "#### Data column information"
   ]
  },
  {
   "cell_type": "code",
   "execution_count": 5,
   "id": "bcfd8a82",
   "metadata": {},
   "outputs": [
    {
     "name": "stdout",
     "output_type": "stream",
     "text": [
      "<class 'pandas.core.frame.DataFrame'>\n",
      "DatetimeIndex: 3230 entries, 2022-09-22 12:50:05+00:00 to 2018-09-24 15:23:55+00:00\n",
      "Data columns (total 4 columns):\n",
      " #   Column      Non-Null Count  Dtype \n",
      "---  ------      --------------  ----- \n",
      " 0   make        3230 non-null   object\n",
      " 1   model       3230 non-null   object\n",
      " 2   model_year  3230 non-null   object\n",
      " 3   price       3230 non-null   int64 \n",
      "dtypes: int64(1), object(3)\n",
      "memory usage: 126.2+ KB\n"
     ]
    }
   ],
   "source": [
    "fmsg.info()"
   ]
  },
  {
   "cell_type": "markdown",
   "id": "0c0dfe83",
   "metadata": {},
   "source": [
    "#### First five rows of the data"
   ]
  },
  {
   "cell_type": "code",
   "execution_count": 6,
   "id": "c7f8b48b",
   "metadata": {},
   "outputs": [
    {
     "data": {
      "text/html": [
       "<div>\n",
       "<style scoped>\n",
       "    .dataframe tbody tr th:only-of-type {\n",
       "        vertical-align: middle;\n",
       "    }\n",
       "\n",
       "    .dataframe tbody tr th {\n",
       "        vertical-align: top;\n",
       "    }\n",
       "\n",
       "    .dataframe thead th {\n",
       "        text-align: right;\n",
       "    }\n",
       "</style>\n",
       "<table border=\"1\" class=\"dataframe\">\n",
       "  <thead>\n",
       "    <tr style=\"text-align: right;\">\n",
       "      <th></th>\n",
       "      <th>make</th>\n",
       "      <th>model</th>\n",
       "      <th>model_year</th>\n",
       "      <th>price</th>\n",
       "    </tr>\n",
       "    <tr>\n",
       "      <th>date</th>\n",
       "      <th></th>\n",
       "      <th></th>\n",
       "      <th></th>\n",
       "      <th></th>\n",
       "    </tr>\n",
       "  </thead>\n",
       "  <tbody>\n",
       "    <tr>\n",
       "      <th>2022-09-22 12:50:05+00:00</th>\n",
       "      <td>peugeot</td>\n",
       "      <td>5008</td>\n",
       "      <td>2022</td>\n",
       "      <td>6000000</td>\n",
       "    </tr>\n",
       "    <tr>\n",
       "      <th>2022-09-22 10:00:10+00:00</th>\n",
       "      <td>hyundai</td>\n",
       "      <td>grand</td>\n",
       "      <td>2020</td>\n",
       "      <td>4050000</td>\n",
       "    </tr>\n",
       "    <tr>\n",
       "      <th>2022-09-22 09:46:44+00:00</th>\n",
       "      <td>toyota</td>\n",
       "      <td>rush</td>\n",
       "      <td>2021</td>\n",
       "      <td>4700000</td>\n",
       "    </tr>\n",
       "    <tr>\n",
       "      <th>2022-09-22 09:40:38+00:00</th>\n",
       "      <td>hyundai</td>\n",
       "      <td>bayon</td>\n",
       "      <td>2022</td>\n",
       "      <td>3650000</td>\n",
       "    </tr>\n",
       "    <tr>\n",
       "      <th>2022-09-22 09:09:31+00:00</th>\n",
       "      <td>hyundai</td>\n",
       "      <td>tucson</td>\n",
       "      <td>2022</td>\n",
       "      <td>5500000</td>\n",
       "    </tr>\n",
       "  </tbody>\n",
       "</table>\n",
       "</div>"
      ],
      "text/plain": [
       "                              make   model model_year    price\n",
       "date                                                          \n",
       "2022-09-22 12:50:05+00:00  peugeot    5008       2022  6000000\n",
       "2022-09-22 10:00:10+00:00  hyundai   grand       2020  4050000\n",
       "2022-09-22 09:46:44+00:00   toyota    rush       2021  4700000\n",
       "2022-09-22 09:40:38+00:00  hyundai   bayon       2022  3650000\n",
       "2022-09-22 09:09:31+00:00  hyundai  tucson       2022  5500000"
      ]
     },
     "execution_count": 6,
     "metadata": {},
     "output_type": "execute_result"
    }
   ],
   "source": [
    "fmsg.head()"
   ]
  },
  {
   "cell_type": "code",
   "execution_count": 7,
   "id": "bb92641a",
   "metadata": {},
   "outputs": [],
   "source": [
    "import matplotlib.pyplot as plt\n",
    "import seaborn as sns"
   ]
  },
  {
   "cell_type": "markdown",
   "id": "2ed95e4b",
   "metadata": {},
   "source": [
    "## Analysis"
   ]
  },
  {
   "cell_type": "markdown",
   "id": "b3188c17",
   "metadata": {},
   "source": [
    "### prices"
   ]
  },
  {
   "cell_type": "markdown",
   "id": "677ff0e0",
   "metadata": {},
   "source": [
    "#### Top 15 car prices"
   ]
  },
  {
   "cell_type": "code",
   "execution_count": 8,
   "id": "9fd89332",
   "metadata": {},
   "outputs": [
    {
     "data": {
      "text/html": [
       "<div>\n",
       "<style scoped>\n",
       "    .dataframe tbody tr th:only-of-type {\n",
       "        vertical-align: middle;\n",
       "    }\n",
       "\n",
       "    .dataframe tbody tr th {\n",
       "        vertical-align: top;\n",
       "    }\n",
       "\n",
       "    .dataframe thead th {\n",
       "        text-align: right;\n",
       "    }\n",
       "</style>\n",
       "<table border=\"1\" class=\"dataframe\">\n",
       "  <thead>\n",
       "    <tr style=\"text-align: right;\">\n",
       "      <th></th>\n",
       "      <th>make</th>\n",
       "      <th>model</th>\n",
       "      <th>model_year</th>\n",
       "      <th>price</th>\n",
       "    </tr>\n",
       "    <tr>\n",
       "      <th>date</th>\n",
       "      <th></th>\n",
       "      <th></th>\n",
       "      <th></th>\n",
       "      <th></th>\n",
       "    </tr>\n",
       "  </thead>\n",
       "  <tbody>\n",
       "    <tr>\n",
       "      <th>2022-09-22 12:50:05+00:00</th>\n",
       "      <td>peugeot</td>\n",
       "      <td>5008</td>\n",
       "      <td>2022</td>\n",
       "      <td>6000000</td>\n",
       "    </tr>\n",
       "    <tr>\n",
       "      <th>2022-06-16 13:07:04+00:00</th>\n",
       "      <td>toyota</td>\n",
       "      <td>corolla</td>\n",
       "      <td>2022</td>\n",
       "      <td>6000000</td>\n",
       "    </tr>\n",
       "    <tr>\n",
       "      <th>2022-06-22 17:24:20+00:00</th>\n",
       "      <td>toyota</td>\n",
       "      <td>land</td>\n",
       "      <td>2008</td>\n",
       "      <td>6000000</td>\n",
       "    </tr>\n",
       "    <tr>\n",
       "      <th>2022-08-27 11:37:43+00:00</th>\n",
       "      <td>toyota</td>\n",
       "      <td>rav4</td>\n",
       "      <td>2018</td>\n",
       "      <td>6000000</td>\n",
       "    </tr>\n",
       "    <tr>\n",
       "      <th>2022-06-10 17:04:42+00:00</th>\n",
       "      <td>toyota</td>\n",
       "      <td>hilux</td>\n",
       "      <td>2022</td>\n",
       "      <td>6000000</td>\n",
       "    </tr>\n",
       "    <tr>\n",
       "      <th>2022-04-15 15:54:29+00:00</th>\n",
       "      <td>hyundai</td>\n",
       "      <td>tucson</td>\n",
       "      <td>2022</td>\n",
       "      <td>6000000</td>\n",
       "    </tr>\n",
       "    <tr>\n",
       "      <th>2020-12-31 12:52:22+00:00</th>\n",
       "      <td>toyota</td>\n",
       "      <td>land</td>\n",
       "      <td>2016</td>\n",
       "      <td>6000000</td>\n",
       "    </tr>\n",
       "    <tr>\n",
       "      <th>2022-06-24 07:54:00+00:00</th>\n",
       "      <td>toyota</td>\n",
       "      <td>hilux</td>\n",
       "      <td>2022</td>\n",
       "      <td>6000000</td>\n",
       "    </tr>\n",
       "    <tr>\n",
       "      <th>2022-09-16 10:12:50+00:00</th>\n",
       "      <td>peugeot</td>\n",
       "      <td>5008</td>\n",
       "      <td>2022</td>\n",
       "      <td>6000000</td>\n",
       "    </tr>\n",
       "    <tr>\n",
       "      <th>2022-06-21 10:41:59+00:00</th>\n",
       "      <td>toyota</td>\n",
       "      <td>corolla</td>\n",
       "      <td>2022</td>\n",
       "      <td>6000000</td>\n",
       "    </tr>\n",
       "    <tr>\n",
       "      <th>2022-09-07 12:29:54+00:00</th>\n",
       "      <td>toyota</td>\n",
       "      <td>corolla</td>\n",
       "      <td>2022</td>\n",
       "      <td>6000000</td>\n",
       "    </tr>\n",
       "    <tr>\n",
       "      <th>2021-08-10 08:18:13+00:00</th>\n",
       "      <td>ford</td>\n",
       "      <td>v</td>\n",
       "      <td>2020</td>\n",
       "      <td>6000000</td>\n",
       "    </tr>\n",
       "    <tr>\n",
       "      <th>2022-06-09 17:31:51+00:00</th>\n",
       "      <td>ford</td>\n",
       "      <td>v</td>\n",
       "      <td>2020</td>\n",
       "      <td>6000000</td>\n",
       "    </tr>\n",
       "    <tr>\n",
       "      <th>2019-12-13 07:27:09+00:00</th>\n",
       "      <td>toyota</td>\n",
       "      <td>land</td>\n",
       "      <td>2015</td>\n",
       "      <td>6000000</td>\n",
       "    </tr>\n",
       "    <tr>\n",
       "      <th>2019-12-13 07:25:54+00:00</th>\n",
       "      <td>toyota</td>\n",
       "      <td>land</td>\n",
       "      <td>2015</td>\n",
       "      <td>6000000</td>\n",
       "    </tr>\n",
       "  </tbody>\n",
       "</table>\n",
       "</div>"
      ],
      "text/plain": [
       "                              make    model model_year    price\n",
       "date                                                           \n",
       "2022-09-22 12:50:05+00:00  peugeot     5008       2022  6000000\n",
       "2022-06-16 13:07:04+00:00   toyota  corolla       2022  6000000\n",
       "2022-06-22 17:24:20+00:00   toyota     land       2008  6000000\n",
       "2022-08-27 11:37:43+00:00   toyota     rav4       2018  6000000\n",
       "2022-06-10 17:04:42+00:00   toyota    hilux       2022  6000000\n",
       "2022-04-15 15:54:29+00:00  hyundai   tucson       2022  6000000\n",
       "2020-12-31 12:52:22+00:00   toyota     land       2016  6000000\n",
       "2022-06-24 07:54:00+00:00   toyota    hilux       2022  6000000\n",
       "2022-09-16 10:12:50+00:00  peugeot     5008       2022  6000000\n",
       "2022-06-21 10:41:59+00:00   toyota  corolla       2022  6000000\n",
       "2022-09-07 12:29:54+00:00   toyota  corolla       2022  6000000\n",
       "2021-08-10 08:18:13+00:00     ford        v       2020  6000000\n",
       "2022-06-09 17:31:51+00:00     ford        v       2020  6000000\n",
       "2019-12-13 07:27:09+00:00   toyota     land       2015  6000000\n",
       "2019-12-13 07:25:54+00:00   toyota     land       2015  6000000"
      ]
     },
     "execution_count": 8,
     "metadata": {},
     "output_type": "execute_result"
    }
   ],
   "source": [
    "fmsg.sort_values(\"price\",ascending = False).head(15)"
   ]
  },
  {
   "cell_type": "markdown",
   "id": "1d50c398",
   "metadata": {},
   "source": [
    "#### Averege car prices trend over the years"
   ]
  },
  {
   "cell_type": "markdown",
   "id": "328829c9",
   "metadata": {},
   "source": [
    "This is just an average of prices for all car prices into one."
   ]
  },
  {
   "cell_type": "code",
   "execution_count": 9,
   "id": "f15bcb70",
   "metadata": {},
   "outputs": [
    {
     "data": {
      "image/png": "[encoded data removed]",
      "text/plain": [
       "<Figure size 432x288 with 1 Axes>"
      ]
     },
     "metadata": {
      "needs_background": "light"
     },
     "output_type": "display_data"
    }
   ],
   "source": [
    "data = fmsg.groupby(fmsg.index.year)[\"price\"].mean()\n",
    "ax = sns.lineplot(x = data.index, y = data)\n",
    "ax.locator_params(integer=True)\n",
    "plt.xlabel(\"year\")\n",
    "plt.ylabel(\"Car price [ETB]\")\n",
    "plt.title(\"Ethiopian Average car price from year 2018-2022\");"
   ]
  },
  {
   "cell_type": "code",
   "execution_count": 10,
   "id": "65720ced",
   "metadata": {},
   "outputs": [
    {
     "data": {
      "text/plain": [
       "202.31"
      ]
     },
     "execution_count": 10,
     "metadata": {},
     "output_type": "execute_result"
    }
   ],
   "source": [
    "overall_appreciation = round(((data[2022] - data[2018]) / data[2018])*100,2)\n",
    "overall_appreciation"
   ]
  },
  {
   "cell_type": "markdown",
   "id": "cafae4ea",
   "metadata": {},
   "source": [
    "so the overall appreciation of cars has been about **`202.31%`** over the past **4** years"
   ]
  },
  {
   "cell_type": "code",
   "execution_count": 11,
   "id": "c12d64d1",
   "metadata": {},
   "outputs": [
    {
     "data": {
      "text/plain": [
       "[56.61, 12.48, 27.59, 34.51]"
      ]
     },
     "execution_count": 11,
     "metadata": {},
     "output_type": "execute_result"
    }
   ],
   "source": [
    "year = data.index[1:]\n",
    "yoy_growth = [round(((data[x]-data[x-1])/data[x-1])*100,2) for x in year]\n",
    "yoy_growth"
   ]
  },
  {
   "cell_type": "code",
   "execution_count": 12,
   "id": "3099f986",
   "metadata": {},
   "outputs": [
    {
     "data": {
      "text/plain": [
       "32.8"
      ]
     },
     "execution_count": 12,
     "metadata": {},
     "output_type": "execute_result"
    }
   ],
   "source": [
    "#Average year on year growth\n",
    "round(sum(yoy_growth) / len(yoy_growth),2)"
   ]
  },
  {
   "cell_type": "markdown",
   "id": "2c9240e5",
   "metadata": {},
   "source": [
    "However, Average year on year growth is about **`32.8%`** which means that on a high level, buying a car will not be very interseting to invest as year on year growth is expected to be **`100%`**. Let us however delve deeper into the types of car models to see if some cars might be lucrative\n",
    "\n",
    "#### Top 5 brands with high percentage increase for every year"
   ]
  },
  {
   "cell_type": "code",
   "execution_count": 13,
   "id": "c934e6a1",
   "metadata": {},
   "outputs": [
    {
     "data": {
      "text/html": [
       "<div>\n",
       "<style scoped>\n",
       "    .dataframe tbody tr th:only-of-type {\n",
       "        vertical-align: middle;\n",
       "    }\n",
       "\n",
       "    .dataframe tbody tr th {\n",
       "        vertical-align: top;\n",
       "    }\n",
       "\n",
       "    .dataframe thead th {\n",
       "        text-align: right;\n",
       "    }\n",
       "</style>\n",
       "<table border=\"1\" class=\"dataframe\">\n",
       "  <thead>\n",
       "    <tr style=\"text-align: right;\">\n",
       "      <th></th>\n",
       "      <th>date</th>\n",
       "      <th>brand</th>\n",
       "      <th>price</th>\n",
       "      <th>pct_change</th>\n",
       "    </tr>\n",
       "  </thead>\n",
       "  <tbody>\n",
       "    <tr>\n",
       "      <th>317</th>\n",
       "      <td>2022</td>\n",
       "      <td>mercedes:cla</td>\n",
       "      <td>2.350000e+06</td>\n",
       "      <td>161.111111</td>\n",
       "    </tr>\n",
       "    <tr>\n",
       "      <th>264</th>\n",
       "      <td>2022</td>\n",
       "      <td>chevrolet:v</td>\n",
       "      <td>4.300000e+06</td>\n",
       "      <td>160.606061</td>\n",
       "    </tr>\n",
       "    <tr>\n",
       "      <th>361</th>\n",
       "      <td>2022</td>\n",
       "      <td>toyota:corolla</td>\n",
       "      <td>2.876833e+06</td>\n",
       "      <td>109.640057</td>\n",
       "    </tr>\n",
       "    <tr>\n",
       "      <th>272</th>\n",
       "      <td>2022</td>\n",
       "      <td>ford:f150</td>\n",
       "      <td>3.633333e+06</td>\n",
       "      <td>70.980392</td>\n",
       "    </tr>\n",
       "    <tr>\n",
       "      <th>254</th>\n",
       "      <td>2022</td>\n",
       "      <td>audi:v</td>\n",
       "      <td>4.100000e+06</td>\n",
       "      <td>66.936887</td>\n",
       "    </tr>\n",
       "    <tr>\n",
       "      <th>212</th>\n",
       "      <td>2021</td>\n",
       "      <td>peugeot:2008</td>\n",
       "      <td>3.425000e+06</td>\n",
       "      <td>280.555556</td>\n",
       "    </tr>\n",
       "    <tr>\n",
       "      <th>191</th>\n",
       "      <td>2021</td>\n",
       "      <td>mercedes:c180</td>\n",
       "      <td>4.400000e+06</td>\n",
       "      <td>193.333333</td>\n",
       "    </tr>\n",
       "    <tr>\n",
       "      <th>146</th>\n",
       "      <td>2021</td>\n",
       "      <td>audi:v</td>\n",
       "      <td>2.456018e+06</td>\n",
       "      <td>172.890889</td>\n",
       "    </tr>\n",
       "    <tr>\n",
       "      <th>170</th>\n",
       "      <td>2021</td>\n",
       "      <td>hyundai:h1</td>\n",
       "      <td>3.025000e+06</td>\n",
       "      <td>163.043478</td>\n",
       "    </tr>\n",
       "    <tr>\n",
       "      <th>194</th>\n",
       "      <td>2021</td>\n",
       "      <td>mercedes:v</td>\n",
       "      <td>1.966667e+06</td>\n",
       "      <td>131.372549</td>\n",
       "    </tr>\n",
       "    <tr>\n",
       "      <th>67</th>\n",
       "      <td>2020</td>\n",
       "      <td>ford:ranger</td>\n",
       "      <td>1.986667e+06</td>\n",
       "      <td>125.757576</td>\n",
       "    </tr>\n",
       "    <tr>\n",
       "      <th>63</th>\n",
       "      <td>2020</td>\n",
       "      <td>chevrolet:v</td>\n",
       "      <td>1.550000e+06</td>\n",
       "      <td>72.222222</td>\n",
       "    </tr>\n",
       "    <tr>\n",
       "      <th>56</th>\n",
       "      <td>2020</td>\n",
       "      <td>ac:tacoma</td>\n",
       "      <td>1.395000e+06</td>\n",
       "      <td>61.458333</td>\n",
       "    </tr>\n",
       "    <tr>\n",
       "      <th>55</th>\n",
       "      <td>2020</td>\n",
       "      <td>ac:2008</td>\n",
       "      <td>1.300000e+06</td>\n",
       "      <td>52.941176</td>\n",
       "    </tr>\n",
       "    <tr>\n",
       "      <th>122</th>\n",
       "      <td>2020</td>\n",
       "      <td>toyota:a3</td>\n",
       "      <td>1.300000e+06</td>\n",
       "      <td>40.287770</td>\n",
       "    </tr>\n",
       "    <tr>\n",
       "      <th>16</th>\n",
       "      <td>2019</td>\n",
       "      <td>ac:v</td>\n",
       "      <td>3.450000e+06</td>\n",
       "      <td>283.333333</td>\n",
       "    </tr>\n",
       "    <tr>\n",
       "      <th>53</th>\n",
       "      <td>2019</td>\n",
       "      <td>toyota:v</td>\n",
       "      <td>2.339167e+06</td>\n",
       "      <td>106.548933</td>\n",
       "    </tr>\n",
       "    <tr>\n",
       "      <th>50</th>\n",
       "      <td>2019</td>\n",
       "      <td>toyota:rav</td>\n",
       "      <td>1.655000e+06</td>\n",
       "      <td>92.815534</td>\n",
       "    </tr>\n",
       "    <tr>\n",
       "      <th>31</th>\n",
       "      <td>2019</td>\n",
       "      <td>hyundai:v</td>\n",
       "      <td>1.250000e+06</td>\n",
       "      <td>47.058824</td>\n",
       "    </tr>\n",
       "    <tr>\n",
       "      <th>43</th>\n",
       "      <td>2019</td>\n",
       "      <td>toyota:4runner</td>\n",
       "      <td>9.000000e+05</td>\n",
       "      <td>12.500000</td>\n",
       "    </tr>\n",
       "  </tbody>\n",
       "</table>\n",
       "</div>"
      ],
      "text/plain": [
       "     date           brand         price  pct_change\n",
       "317  2022    mercedes:cla  2.350000e+06  161.111111\n",
       "264  2022     chevrolet:v  4.300000e+06  160.606061\n",
       "361  2022  toyota:corolla  2.876833e+06  109.640057\n",
       "272  2022       ford:f150  3.633333e+06   70.980392\n",
       "254  2022          audi:v  4.100000e+06   66.936887\n",
       "212  2021    peugeot:2008  3.425000e+06  280.555556\n",
       "191  2021   mercedes:c180  4.400000e+06  193.333333\n",
       "146  2021          audi:v  2.456018e+06  172.890889\n",
       "170  2021      hyundai:h1  3.025000e+06  163.043478\n",
       "194  2021      mercedes:v  1.966667e+06  131.372549\n",
       "67   2020     ford:ranger  1.986667e+06  125.757576\n",
       "63   2020     chevrolet:v  1.550000e+06   72.222222\n",
       "56   2020       ac:tacoma  1.395000e+06   61.458333\n",
       "55   2020         ac:2008  1.300000e+06   52.941176\n",
       "122  2020       toyota:a3  1.300000e+06   40.287770\n",
       "16   2019            ac:v  3.450000e+06  283.333333\n",
       "53   2019        toyota:v  2.339167e+06  106.548933\n",
       "50   2019      toyota:rav  1.655000e+06   92.815534\n",
       "31   2019       hyundai:v  1.250000e+06   47.058824\n",
       "43   2019  toyota:4runner  9.000000e+05   12.500000"
      ]
     },
     "execution_count": 13,
     "metadata": {},
     "output_type": "execute_result"
    }
   ],
   "source": [
    "import numpy as np\n",
    "fmsg[\"brand\"] = fmsg[\"make\"] + \":\" + fmsg[\"model\"]\n",
    "brand = fmsg[\"brand\"].unique()\n",
    "bp = fmsg.groupby([fmsg.index.year,\"brand\"])[\"price\"].mean().reset_index()\n",
    "bp[\"check\"] = bp.apply(lambda x: \n",
    "                       (bp[(bp[\"date\"]==x[\"date\"]) & (bp[\"brand\"]==x[\"brand\"])][\"price\"].values\n",
    "                       -\n",
    "                       bp[(bp[\"date\"]==x[\"date\"]-1) & (bp[\"brand\"]==x[\"brand\"])][\"price\"].values)\n",
    "                       /\n",
    "                       bp[(bp[\"date\"]==x[\"date\"]-1) & (bp[\"brand\"]==x[\"brand\"])][\"price\"].values \n",
    "                       \n",
    "                       , axis  = 1 )\n",
    "bp[\"pct_change\"] = bp[\"check\"].apply(lambda x: x[0]*100 if len(x)!=0 else np.nan)\n",
    "bp.dropna(inplace = True)\n",
    "bp.drop([\"check\"],axis = 1, inplace = True)\n",
    "b_data = pd.concat([bp[bp[\"date\"]==x].sort_values(\"pct_change\",ascending = False).head() for x in [2019,2020,2021,2022]]).sort_values([\"date\",\"pct_change\"],ascending = False)\n",
    "b_data"
   ]
  },
  {
   "cell_type": "code",
   "execution_count": 14,
   "id": "29ad08d9",
   "metadata": {},
   "outputs": [
    {
     "data": {
      "image/png": "[encoded data removed]",
      "text/plain": [
       "<Figure size 432x288 with 1 Axes>"
      ]
     },
     "metadata": {
      "needs_background": "light"
     },
     "output_type": "display_data"
    }
   ],
   "source": [
    "sns.barplot(data = b_data[b_data[\"date\"]==2022].head(), x = \"date\", y = \"pct_change\", hue = \"brand\")\n",
    "plt.xlabel(\"date\")\n",
    "plt.ylabel(\"Year on Year Growth [%]\")\n",
    "plt.title(\"Top 5 brands by Year on Year price Growth rate in 2022\");"
   ]
  },
  {
   "cell_type": "code",
   "execution_count": 15,
   "id": "e4d2027e",
   "metadata": {},
   "outputs": [
    {
     "name": "stdout",
     "output_type": "stream",
     "text": [
      "percent of cars greater than 100% growth rate in 2022: 3.8\n"
     ]
    },
    {
     "data": {
      "text/plain": [
       "count     79.000000\n",
       "mean      20.373805\n",
       "std       36.165880\n",
       "min      -62.750850\n",
       "25%        4.878448\n",
       "50%       20.155039\n",
       "75%       30.720148\n",
       "max      161.111111\n",
       "Name: pct_change, dtype: float64"
      ]
     },
     "execution_count": 15,
     "metadata": {},
     "output_type": "execute_result"
    }
   ],
   "source": [
    "print(\"percent of cars greater than 100% growth rate in 2022:\",\n",
    "      round(bp[(bp[\"date\"]==2022) & (bp[\"pct_change\"]>=100)].shape[0]/bp[(bp[\"date\"]==2022)].shape[0]*100,2))\n",
    "\n",
    "bp[bp[\"date\"]==2022].describe()[\"pct_change\"]"
   ]
  },
  {
   "cell_type": "code",
   "execution_count": 16,
   "id": "ab09ca35",
   "metadata": {},
   "outputs": [
    {
     "data": {
      "image/png": "[encoded data removed]",
      "text/plain": [
       "<Figure size 432x288 with 1 Axes>"
      ]
     },
     "metadata": {
      "needs_background": "light"
     },
     "output_type": "display_data"
    }
   ],
   "source": [
    "sns.boxplot(bp[bp[\"date\"]==2022][\"pct_change\"])\n",
    "plt.title(\"box plot of year on year growth rate of car price in the year 2022\")\n",
    "plt.xlabel(\"percentage change [%]\");"
   ]
  },
  {
   "cell_type": "markdown",
   "id": "dd405218",
   "metadata": {},
   "source": [
    "so it is possible that some cars like the `chevrolet:v` brands can go up to `160%` while there are some brands like `toyota:yaris` to increase by only `27%`. \n",
    "\n",
    "So, the first thing to note is that there are some cars that might increase to above `100%` while others might not. In fact in 2022, only `3.8%` of the car brands has a probability of going up `100%`. In 2022, we can also see that `75%` of the car brands fall on or under `30%`. So assuming I blindly chose a car at random, I would have a `75%` chance of getting a car that will appreciate under `30%`. Doubling car prices is an outlier as can be seen by the box plot. So, in conclusion, it would be very risky to bet that a car price might double. \n",
    "\n",
    "\n"
   ]
  },
  {
   "cell_type": "markdown",
   "id": "ae78aea4",
   "metadata": {},
   "source": [
    "#### Analysis within my price range\n",
    "\n",
    "Now, what about cars under two million birr. We can see below that only two brands fit my description `ford` in `2020` and `mercedes` in `2021`"
   ]
  },
  {
   "cell_type": "code",
   "execution_count": 17,
   "id": "b0672e12",
   "metadata": {},
   "outputs": [
    {
     "data": {
      "text/html": [
       "<div>\n",
       "<style scoped>\n",
       "    .dataframe tbody tr th:only-of-type {\n",
       "        vertical-align: middle;\n",
       "    }\n",
       "\n",
       "    .dataframe tbody tr th {\n",
       "        vertical-align: top;\n",
       "    }\n",
       "\n",
       "    .dataframe thead th {\n",
       "        text-align: right;\n",
       "    }\n",
       "</style>\n",
       "<table border=\"1\" class=\"dataframe\">\n",
       "  <thead>\n",
       "    <tr style=\"text-align: right;\">\n",
       "      <th></th>\n",
       "      <th>date</th>\n",
       "      <th>brand</th>\n",
       "      <th>price</th>\n",
       "      <th>pct_change</th>\n",
       "    </tr>\n",
       "  </thead>\n",
       "  <tbody>\n",
       "    <tr>\n",
       "      <th>67</th>\n",
       "      <td>2020</td>\n",
       "      <td>ford:ranger</td>\n",
       "      <td>1.986667e+06</td>\n",
       "      <td>125.757576</td>\n",
       "    </tr>\n",
       "    <tr>\n",
       "      <th>194</th>\n",
       "      <td>2021</td>\n",
       "      <td>mercedes:v</td>\n",
       "      <td>1.966667e+06</td>\n",
       "      <td>131.372549</td>\n",
       "    </tr>\n",
       "  </tbody>\n",
       "</table>\n",
       "</div>"
      ],
      "text/plain": [
       "     date        brand         price  pct_change\n",
       "67   2020  ford:ranger  1.986667e+06  125.757576\n",
       "194  2021   mercedes:v  1.966667e+06  131.372549"
      ]
     },
     "execution_count": 17,
     "metadata": {},
     "output_type": "execute_result"
    }
   ],
   "source": [
    "my_bp = bp[(bp[\"price\"]<=2_000_000) & (bp[\"pct_change\"]>=100)]\n",
    "my_bp"
   ]
  },
  {
   "cell_type": "markdown",
   "id": "3904bc0f",
   "metadata": {},
   "source": [
    "We can see below that for the `ford` the price has gone up to about `3.4 million` with an average annual growth rate of about `62.8%`. It would have been nice if I bought it in 2020, but now its beyond my pay grade"
   ]
  },
  {
   "cell_type": "code",
   "execution_count": 18,
   "id": "ecdf79fd",
   "metadata": {},
   "outputs": [
    {
     "name": "stdout",
     "output_type": "stream",
     "text": [
      "average ford percent increase:  62.68\n"
     ]
    },
    {
     "data": {
      "text/html": [
       "<div>\n",
       "<style scoped>\n",
       "    .dataframe tbody tr th:only-of-type {\n",
       "        vertical-align: middle;\n",
       "    }\n",
       "\n",
       "    .dataframe tbody tr th {\n",
       "        vertical-align: top;\n",
       "    }\n",
       "\n",
       "    .dataframe thead th {\n",
       "        text-align: right;\n",
       "    }\n",
       "</style>\n",
       "<table border=\"1\" class=\"dataframe\">\n",
       "  <thead>\n",
       "    <tr style=\"text-align: right;\">\n",
       "      <th></th>\n",
       "      <th>date</th>\n",
       "      <th>brand</th>\n",
       "      <th>price</th>\n",
       "      <th>pct_change</th>\n",
       "    </tr>\n",
       "  </thead>\n",
       "  <tbody>\n",
       "    <tr>\n",
       "      <th>67</th>\n",
       "      <td>2020</td>\n",
       "      <td>ford:ranger</td>\n",
       "      <td>1.986667e+06</td>\n",
       "      <td>125.757576</td>\n",
       "    </tr>\n",
       "    <tr>\n",
       "      <th>158</th>\n",
       "      <td>2021</td>\n",
       "      <td>ford:ranger</td>\n",
       "      <td>2.722222e+06</td>\n",
       "      <td>37.024609</td>\n",
       "    </tr>\n",
       "    <tr>\n",
       "      <th>274</th>\n",
       "      <td>2022</td>\n",
       "      <td>ford:ranger</td>\n",
       "      <td>3.410000e+06</td>\n",
       "      <td>25.265306</td>\n",
       "    </tr>\n",
       "  </tbody>\n",
       "</table>\n",
       "</div>"
      ],
      "text/plain": [
       "     date        brand         price  pct_change\n",
       "67   2020  ford:ranger  1.986667e+06  125.757576\n",
       "158  2021  ford:ranger  2.722222e+06   37.024609\n",
       "274  2022  ford:ranger  3.410000e+06   25.265306"
      ]
     },
     "execution_count": 18,
     "metadata": {},
     "output_type": "execute_result"
    }
   ],
   "source": [
    "bp_ford = bp[bp[\"brand\"]==\"ford:ranger\"]\n",
    "print(\"average ford percent increase: \", round(sum(bp_ford[\"pct_change\"])/len(bp_ford[\"pct_change\"]),2))\n",
    "bp_ford"
   ]
  },
  {
   "cell_type": "code",
   "execution_count": 19,
   "id": "62e88d19",
   "metadata": {},
   "outputs": [
    {
     "name": "stdout",
     "output_type": "stream",
     "text": [
      "average ford percent increase:  47.26\n"
     ]
    },
    {
     "data": {
      "text/html": [
       "<div>\n",
       "<style scoped>\n",
       "    .dataframe tbody tr th:only-of-type {\n",
       "        vertical-align: middle;\n",
       "    }\n",
       "\n",
       "    .dataframe tbody tr th {\n",
       "        vertical-align: top;\n",
       "    }\n",
       "\n",
       "    .dataframe thead th {\n",
       "        text-align: right;\n",
       "    }\n",
       "</style>\n",
       "<table border=\"1\" class=\"dataframe\">\n",
       "  <thead>\n",
       "    <tr style=\"text-align: right;\">\n",
       "      <th></th>\n",
       "      <th>date</th>\n",
       "      <th>brand</th>\n",
       "      <th>price</th>\n",
       "      <th>pct_change</th>\n",
       "    </tr>\n",
       "  </thead>\n",
       "  <tbody>\n",
       "    <tr>\n",
       "      <th>194</th>\n",
       "      <td>2021</td>\n",
       "      <td>mercedes:v</td>\n",
       "      <td>1.966667e+06</td>\n",
       "      <td>131.372549</td>\n",
       "    </tr>\n",
       "    <tr>\n",
       "      <th>322</th>\n",
       "      <td>2022</td>\n",
       "      <td>mercedes:v</td>\n",
       "      <td>2.171429e+06</td>\n",
       "      <td>10.411622</td>\n",
       "    </tr>\n",
       "  </tbody>\n",
       "</table>\n",
       "</div>"
      ],
      "text/plain": [
       "     date       brand         price  pct_change\n",
       "194  2021  mercedes:v  1.966667e+06  131.372549\n",
       "322  2022  mercedes:v  2.171429e+06   10.411622"
      ]
     },
     "execution_count": 19,
     "metadata": {},
     "output_type": "execute_result"
    }
   ],
   "source": [
    "bp_merc = bp[bp[\"brand\"]==\"mercedes:v\"]\n",
    "print(\"average ford percent increase: \", round(sum(bp_merc[\"pct_change\"])/len(bp_ford[\"pct_change\"]),2))\n",
    "bp_merc"
   ]
  },
  {
   "cell_type": "markdown",
   "id": "a2d51228",
   "metadata": {},
   "source": [
    "#### Affordable cars in 2022"
   ]
  },
  {
   "cell_type": "code",
   "execution_count": 20,
   "id": "bbe98515",
   "metadata": {},
   "outputs": [
    {
     "data": {
      "text/html": [
       "<div>\n",
       "<style scoped>\n",
       "    .dataframe tbody tr th:only-of-type {\n",
       "        vertical-align: middle;\n",
       "    }\n",
       "\n",
       "    .dataframe tbody tr th {\n",
       "        vertical-align: top;\n",
       "    }\n",
       "\n",
       "    .dataframe thead th {\n",
       "        text-align: right;\n",
       "    }\n",
       "</style>\n",
       "<table border=\"1\" class=\"dataframe\">\n",
       "  <thead>\n",
       "    <tr style=\"text-align: right;\">\n",
       "      <th></th>\n",
       "      <th>date</th>\n",
       "      <th>brand</th>\n",
       "      <th>price</th>\n",
       "      <th>pct_change</th>\n",
       "    </tr>\n",
       "  </thead>\n",
       "  <tbody>\n",
       "    <tr>\n",
       "      <th>317</th>\n",
       "      <td>2022</td>\n",
       "      <td>mercedes:cla</td>\n",
       "      <td>2.350000e+06</td>\n",
       "      <td>161.111111</td>\n",
       "    </tr>\n",
       "    <tr>\n",
       "      <th>361</th>\n",
       "      <td>2022</td>\n",
       "      <td>toyota:corolla</td>\n",
       "      <td>2.876833e+06</td>\n",
       "      <td>109.640057</td>\n",
       "    </tr>\n",
       "    <tr>\n",
       "      <th>272</th>\n",
       "      <td>2022</td>\n",
       "      <td>ford:f150</td>\n",
       "      <td>3.633333e+06</td>\n",
       "      <td>70.980392</td>\n",
       "    </tr>\n",
       "    <tr>\n",
       "      <th>330</th>\n",
       "      <td>2022</td>\n",
       "      <td>nissan:juke</td>\n",
       "      <td>3.260357e+06</td>\n",
       "      <td>57.559544</td>\n",
       "    </tr>\n",
       "    <tr>\n",
       "      <th>352</th>\n",
       "      <td>2022</td>\n",
       "      <td>toyota:2008</td>\n",
       "      <td>2.600000e+06</td>\n",
       "      <td>55.746911</td>\n",
       "    </tr>\n",
       "    <tr>\n",
       "      <th>...</th>\n",
       "      <td>...</td>\n",
       "      <td>...</td>\n",
       "      <td>...</td>\n",
       "      <td>...</td>\n",
       "    </tr>\n",
       "    <tr>\n",
       "      <th>312</th>\n",
       "      <td>2022</td>\n",
       "      <td>lexus:lexus</td>\n",
       "      <td>1.950000e+06</td>\n",
       "      <td>-41.791045</td>\n",
       "    </tr>\n",
       "    <tr>\n",
       "      <th>315</th>\n",
       "      <td>2022</td>\n",
       "      <td>mercedes:c180</td>\n",
       "      <td>2.466667e+06</td>\n",
       "      <td>-43.939394</td>\n",
       "    </tr>\n",
       "    <tr>\n",
       "      <th>358</th>\n",
       "      <td>2022</td>\n",
       "      <td>toyota:5008</td>\n",
       "      <td>1.202021e+06</td>\n",
       "      <td>-55.508182</td>\n",
       "    </tr>\n",
       "    <tr>\n",
       "      <th>316</th>\n",
       "      <td>2022</td>\n",
       "      <td>mercedes:c200</td>\n",
       "      <td>8.000000e+05</td>\n",
       "      <td>-55.555556</td>\n",
       "    </tr>\n",
       "    <tr>\n",
       "      <th>290</th>\n",
       "      <td>2022</td>\n",
       "      <td>hyundai:hilux</td>\n",
       "      <td>1.201718e+06</td>\n",
       "      <td>-62.750850</td>\n",
       "    </tr>\n",
       "  </tbody>\n",
       "</table>\n",
       "<p>62 rows × 4 columns</p>\n",
       "</div>"
      ],
      "text/plain": [
       "     date           brand         price  pct_change\n",
       "317  2022    mercedes:cla  2.350000e+06  161.111111\n",
       "361  2022  toyota:corolla  2.876833e+06  109.640057\n",
       "272  2022       ford:f150  3.633333e+06   70.980392\n",
       "330  2022     nissan:juke  3.260357e+06   57.559544\n",
       "352  2022     toyota:2008  2.600000e+06   55.746911\n",
       "..    ...             ...           ...         ...\n",
       "312  2022     lexus:lexus  1.950000e+06  -41.791045\n",
       "315  2022   mercedes:c180  2.466667e+06  -43.939394\n",
       "358  2022     toyota:5008  1.202021e+06  -55.508182\n",
       "316  2022   mercedes:c200  8.000000e+05  -55.555556\n",
       "290  2022   hyundai:hilux  1.201718e+06  -62.750850\n",
       "\n",
       "[62 rows x 4 columns]"
      ]
     },
     "execution_count": 20,
     "metadata": {},
     "output_type": "execute_result"
    }
   ],
   "source": [
    "af_bp = bp[(bp[\"price\"]<=4_000_000) & (bp[\"date\"]>=2022)]\n",
    "af_bp.sort_values(\"pct_change\",ascending = False)"
   ]
  },
  {
   "cell_type": "code",
   "execution_count": 21,
   "id": "e182d6c1",
   "metadata": {},
   "outputs": [
    {
     "data": {
      "text/plain": [
       "count     62.000000\n",
       "mean      16.814734\n",
       "std       35.500854\n",
       "min      -62.750850\n",
       "25%        0.959368\n",
       "50%       16.035969\n",
       "75%       30.312520\n",
       "max      161.111111\n",
       "Name: pct_change, dtype: float64"
      ]
     },
     "execution_count": 21,
     "metadata": {},
     "output_type": "execute_result"
    }
   ],
   "source": [
    "af_bp.describe()[\"pct_change\"]"
   ]
  },
  {
   "cell_type": "markdown",
   "id": "88431549",
   "metadata": {},
   "source": [
    "We can see in 2022, 75% of cars sampled appreciated by about `25%` with a maximum appreciation of only `42.3%` indicating that based on the 2 million budget, it would be difficult to expect doubling car prices"
   ]
  },
  {
   "cell_type": "code",
   "execution_count": 22,
   "id": "22a42863",
   "metadata": {},
   "outputs": [
    {
     "data": {
      "image/png": "[encoded data removed]",
      "text/plain": [
       "<Figure size 432x288 with 1 Axes>"
      ]
     },
     "metadata": {
      "needs_background": "light"
     },
     "output_type": "display_data"
    }
   ],
   "source": [
    "sns.regplot(data = bp,x=\"price\",y=\"pct_change\", label = \"brand\")\n",
    "plt.xlabel(\"price [ETB]\")\n",
    "plt.ylabel(\"Year on Year Growth Rate [%]\")\n",
    "plt.title(\"Relation between price of car and last year growth rate of car\");"
   ]
  },
  {
   "cell_type": "markdown",
   "id": "2f738b79",
   "metadata": {},
   "source": [
    "### Conclusion\n",
    "\n",
    "On a final note, we can see that cars with low price values does imply that they have depreciated from last year and that more expensive cars show that they have appreciated from last year which does make logical sense; But the graph does also show that the line is very close to a horizontal line around 20-30% which is consistent with other conclusions. So, even though buying cars worth 2 million might have some chances of cashing out big, the probability is really stacked against you. So, for very lucrative returns, buying a car might not be a best venture."
   ]
  },
  {
   "cell_type": "code",
   "execution_count": 25,
   "id": "9268de04",
   "metadata": {},
   "outputs": [
    {
     "name": "stdout",
     "output_type": "stream",
     "text": [
      "<class 'pandas.core.frame.DataFrame'>\n",
      "DatetimeIndex: 3230 entries, 2022-09-22 12:50:05+00:00 to 2018-09-24 15:23:55+00:00\n",
      "Data columns (total 5 columns):\n",
      " #   Column      Non-Null Count  Dtype \n",
      "---  ------      --------------  ----- \n",
      " 0   make        3230 non-null   object\n",
      " 1   model       3230 non-null   object\n",
      " 2   model_year  3230 non-null   object\n",
      " 3   price       3230 non-null   int64 \n",
      " 4   brand       3230 non-null   object\n",
      "dtypes: int64(1), object(4)\n",
      "memory usage: 151.4+ KB\n"
     ]
    }
   ],
   "source": [
    "fmsg.info()"
   ]
  },
  {
   "cell_type": "code",
   "execution_count": 31,
   "id": "7d20896c",
   "metadata": {},
   "outputs": [
    {
     "data": {
      "text/html": [
       "<div>\n",
       "<style scoped>\n",
       "    .dataframe tbody tr th:only-of-type {\n",
       "        vertical-align: middle;\n",
       "    }\n",
       "\n",
       "    .dataframe tbody tr th {\n",
       "        vertical-align: top;\n",
       "    }\n",
       "\n",
       "    .dataframe thead th {\n",
       "        text-align: right;\n",
       "    }\n",
       "</style>\n",
       "<table border=\"1\" class=\"dataframe\">\n",
       "  <thead>\n",
       "    <tr style=\"text-align: right;\">\n",
       "      <th></th>\n",
       "      <th>make</th>\n",
       "      <th>model</th>\n",
       "      <th>model_year</th>\n",
       "      <th>price</th>\n",
       "      <th>brand</th>\n",
       "    </tr>\n",
       "    <tr>\n",
       "      <th>date</th>\n",
       "      <th></th>\n",
       "      <th></th>\n",
       "      <th></th>\n",
       "      <th></th>\n",
       "      <th></th>\n",
       "    </tr>\n",
       "  </thead>\n",
       "  <tbody>\n",
       "    <tr>\n",
       "      <th>2022-09-22 12:50:05+00:00</th>\n",
       "      <td>peugeot</td>\n",
       "      <td>5008</td>\n",
       "      <td>2022</td>\n",
       "      <td>6000000</td>\n",
       "      <td>peugeot:5008</td>\n",
       "    </tr>\n",
       "    <tr>\n",
       "      <th>2022-09-22 10:00:10+00:00</th>\n",
       "      <td>hyundai</td>\n",
       "      <td>grand</td>\n",
       "      <td>2020</td>\n",
       "      <td>4050000</td>\n",
       "      <td>hyundai:grand</td>\n",
       "    </tr>\n",
       "    <tr>\n",
       "      <th>2022-09-22 09:46:44+00:00</th>\n",
       "      <td>toyota</td>\n",
       "      <td>rush</td>\n",
       "      <td>2021</td>\n",
       "      <td>4700000</td>\n",
       "      <td>toyota:rush</td>\n",
       "    </tr>\n",
       "    <tr>\n",
       "      <th>2022-09-22 09:40:38+00:00</th>\n",
       "      <td>hyundai</td>\n",
       "      <td>bayon</td>\n",
       "      <td>2022</td>\n",
       "      <td>3650000</td>\n",
       "      <td>hyundai:bayon</td>\n",
       "    </tr>\n",
       "    <tr>\n",
       "      <th>2022-09-22 09:09:31+00:00</th>\n",
       "      <td>hyundai</td>\n",
       "      <td>tucson</td>\n",
       "      <td>2022</td>\n",
       "      <td>5500000</td>\n",
       "      <td>hyundai:tucson</td>\n",
       "    </tr>\n",
       "    <tr>\n",
       "      <th>...</th>\n",
       "      <td>...</td>\n",
       "      <td>...</td>\n",
       "      <td>...</td>\n",
       "      <td>...</td>\n",
       "      <td>...</td>\n",
       "    </tr>\n",
       "    <tr>\n",
       "      <th>2022-07-04 06:33:37+00:00</th>\n",
       "      <td>hyundai</td>\n",
       "      <td>elantra</td>\n",
       "      <td>2017</td>\n",
       "      <td>2500000</td>\n",
       "      <td>hyundai:elantra</td>\n",
       "    </tr>\n",
       "    <tr>\n",
       "      <th>2022-07-04 06:31:00+00:00</th>\n",
       "      <td>suzuki</td>\n",
       "      <td>swift</td>\n",
       "      <td>2022</td>\n",
       "      <td>1610000</td>\n",
       "      <td>suzuki:swift</td>\n",
       "    </tr>\n",
       "    <tr>\n",
       "      <th>2022-07-03 07:50:46+00:00</th>\n",
       "      <td>toyota</td>\n",
       "      <td>rush</td>\n",
       "      <td>2022</td>\n",
       "      <td>3850000</td>\n",
       "      <td>toyota:rush</td>\n",
       "    </tr>\n",
       "    <tr>\n",
       "      <th>2022-07-01 14:06:16+00:00</th>\n",
       "      <td>toyota</td>\n",
       "      <td>hilux</td>\n",
       "      <td>2021</td>\n",
       "      <td>4250000</td>\n",
       "      <td>toyota:hilux</td>\n",
       "    </tr>\n",
       "    <tr>\n",
       "      <th>2022-07-01 08:12:05+00:00</th>\n",
       "      <td>toyota</td>\n",
       "      <td>yaris</td>\n",
       "      <td>2010</td>\n",
       "      <td>1190000</td>\n",
       "      <td>toyota:yaris</td>\n",
       "    </tr>\n",
       "  </tbody>\n",
       "</table>\n",
       "<p>667 rows × 5 columns</p>\n",
       "</div>"
      ],
      "text/plain": [
       "                              make    model model_year    price  \\\n",
       "date                                                              \n",
       "2022-09-22 12:50:05+00:00  peugeot     5008       2022  6000000   \n",
       "2022-09-22 10:00:10+00:00  hyundai    grand       2020  4050000   \n",
       "2022-09-22 09:46:44+00:00   toyota     rush       2021  4700000   \n",
       "2022-09-22 09:40:38+00:00  hyundai    bayon       2022  3650000   \n",
       "2022-09-22 09:09:31+00:00  hyundai   tucson       2022  5500000   \n",
       "...                            ...      ...        ...      ...   \n",
       "2022-07-04 06:33:37+00:00  hyundai  elantra       2017  2500000   \n",
       "2022-07-04 06:31:00+00:00   suzuki    swift       2022  1610000   \n",
       "2022-07-03 07:50:46+00:00   toyota     rush       2022  3850000   \n",
       "2022-07-01 14:06:16+00:00   toyota    hilux       2021  4250000   \n",
       "2022-07-01 08:12:05+00:00   toyota    yaris       2010  1190000   \n",
       "\n",
       "                                     brand  \n",
       "date                                        \n",
       "2022-09-22 12:50:05+00:00     peugeot:5008  \n",
       "2022-09-22 10:00:10+00:00    hyundai:grand  \n",
       "2022-09-22 09:46:44+00:00      toyota:rush  \n",
       "2022-09-22 09:40:38+00:00    hyundai:bayon  \n",
       "2022-09-22 09:09:31+00:00   hyundai:tucson  \n",
       "...                                    ...  \n",
       "2022-07-04 06:33:37+00:00  hyundai:elantra  \n",
       "2022-07-04 06:31:00+00:00     suzuki:swift  \n",
       "2022-07-03 07:50:46+00:00      toyota:rush  \n",
       "2022-07-01 14:06:16+00:00     toyota:hilux  \n",
       "2022-07-01 08:12:05+00:00     toyota:yaris  \n",
       "\n",
       "[667 rows x 5 columns]"
      ]
     },
     "execution_count": 31,
     "metadata": {},
     "output_type": "execute_result"
    }
   ],
   "source": [
    "rp = fmsg[(fmsg.index.year == 2022) & ((fmsg.index.month<=9) & (fmsg.index.month>=7))]\n",
    "rp"
   ]
  },
  {
   "cell_type": "code",
   "execution_count": 34,
   "id": "7ea7d7c9",
   "metadata": {},
   "outputs": [
    {
     "data": {
      "image/png": "[encoded data removed]",
      "text/plain": [
       "<Figure size 432x288 with 1 Axes>"
      ]
     },
     "metadata": {
      "needs_background": "light"
     },
     "output_type": "display_data"
    }
   ],
   "source": [
    "data = rp.groupby(rp.index.month)[\"price\"].mean()\n",
    "ax = sns.lineplot(x = data.index, y = data)\n",
    "ax.locator_params(integer=True)\n",
    "plt.xlabel(\"month\")\n",
    "plt.ylabel(\"Car price [ETB]\")\n",
    "plt.title(\"Ethiopian Average car price past 3 months\");"
   ]
  },
  {
   "cell_type": "code",
   "execution_count": 35,
   "id": "e8c911cd",
   "metadata": {},
   "outputs": [
    {
     "data": {
      "text/plain": [
       "12.1"
      ]
     },
     "execution_count": 35,
     "metadata": {},
     "output_type": "execute_result"
    }
   ],
   "source": [
    "overall_appreciation = round(((data[9] - data[7]) / data[7])*100,2)\n",
    "overall_appreciation"
   ]
  },
  {
   "cell_type": "code",
   "execution_count": 36,
   "id": "e132d010",
   "metadata": {},
   "outputs": [
    {
     "data": {
      "text/plain": [
       "date\n",
       "7    3.282939e+06\n",
       "8    3.739349e+06\n",
       "9    3.680208e+06\n",
       "Name: price, dtype: float64"
      ]
     },
     "execution_count": 36,
     "metadata": {},
     "output_type": "execute_result"
    }
   ],
   "source": [
    "data"
   ]
  },
  {
   "cell_type": "code",
   "execution_count": 38,
   "id": "61ebf79f",
   "metadata": {},
   "outputs": [
    {
     "data": {
      "text/plain": [
       "13.9"
      ]
     },
     "execution_count": 38,
     "metadata": {},
     "output_type": "execute_result"
    }
   ],
   "source": [
    "overall_appreciation = round(((data[8] - data[7]) / data[7])*100,2)\n",
    "overall_appreciation"
   ]
  },
  {
   "cell_type": "code",
   "execution_count": 39,
   "id": "4358a91b",
   "metadata": {},
   "outputs": [
    {
     "data": {
      "text/plain": [
       "(179, 4)"
      ]
     },
     "execution_count": 39,
     "metadata": {},
     "output_type": "execute_result"
    }
   ],
   "source": [
    "bp.shape"
   ]
  },
  {
   "cell_type": "code",
   "execution_count": 40,
   "id": "13f5de71",
   "metadata": {},
   "outputs": [
    {
     "data": {
      "text/plain": [
       "(667, 5)"
      ]
     },
     "execution_count": 40,
     "metadata": {},
     "output_type": "execute_result"
    }
   ],
   "source": [
    "rp.shape"
   ]
  },
  {
   "cell_type": "code",
   "execution_count": 53,
   "id": "81b490cf",
   "metadata": {},
   "outputs": [
    {
     "data": {
      "text/html": [
       "<div>\n",
       "<style scoped>\n",
       "    .dataframe tbody tr th:only-of-type {\n",
       "        vertical-align: middle;\n",
       "    }\n",
       "\n",
       "    .dataframe tbody tr th {\n",
       "        vertical-align: top;\n",
       "    }\n",
       "\n",
       "    .dataframe thead th {\n",
       "        text-align: right;\n",
       "    }\n",
       "</style>\n",
       "<table border=\"1\" class=\"dataframe\">\n",
       "  <thead>\n",
       "    <tr style=\"text-align: right;\">\n",
       "      <th></th>\n",
       "      <th>date</th>\n",
       "      <th>brand</th>\n",
       "      <th>price</th>\n",
       "      <th>check</th>\n",
       "      <th>pct_change</th>\n",
       "    </tr>\n",
       "  </thead>\n",
       "  <tbody>\n",
       "    <tr>\n",
       "      <th>139</th>\n",
       "      <td>9</td>\n",
       "      <td>mercedes:c180</td>\n",
       "      <td>3.100000e+06</td>\n",
       "      <td>[0.4090909090909091]</td>\n",
       "      <td>40.909091</td>\n",
       "    </tr>\n",
       "    <tr>\n",
       "      <th>129</th>\n",
       "      <td>9</td>\n",
       "      <td>ford:v</td>\n",
       "      <td>4.250000e+06</td>\n",
       "      <td>[0.3229571984435798]</td>\n",
       "      <td>32.295720</td>\n",
       "    </tr>\n",
       "    <tr>\n",
       "      <th>145</th>\n",
       "      <td>9</td>\n",
       "      <td>suzuki:dzire</td>\n",
       "      <td>1.884000e+06</td>\n",
       "      <td>[0.29218106995884774]</td>\n",
       "      <td>29.218107</td>\n",
       "    </tr>\n",
       "    <tr>\n",
       "      <th>140</th>\n",
       "      <td>9</td>\n",
       "      <td>mitsubishi:attrage</td>\n",
       "      <td>2.276667e+06</td>\n",
       "      <td>[0.28625235404896415]</td>\n",
       "      <td>28.625235</td>\n",
       "    </tr>\n",
       "    <tr>\n",
       "      <th>120</th>\n",
       "      <td>9</td>\n",
       "      <td>bmw:v</td>\n",
       "      <td>2.200000e+06</td>\n",
       "      <td>[0.2222222222222222]</td>\n",
       "      <td>22.222222</td>\n",
       "    </tr>\n",
       "    <tr>\n",
       "      <th>89</th>\n",
       "      <td>8</td>\n",
       "      <td>mercedes:c180</td>\n",
       "      <td>2.200000e+06</td>\n",
       "      <td>[1.2]</td>\n",
       "      <td>120.000000</td>\n",
       "    </tr>\n",
       "    <tr>\n",
       "      <th>80</th>\n",
       "      <td>8</td>\n",
       "      <td>hyundai:grand</td>\n",
       "      <td>3.641667e+06</td>\n",
       "      <td>[0.5279720279720278]</td>\n",
       "      <td>52.797203</td>\n",
       "    </tr>\n",
       "    <tr>\n",
       "      <th>112</th>\n",
       "      <td>8</td>\n",
       "      <td>toyota:range</td>\n",
       "      <td>5.900000e+06</td>\n",
       "      <td>[0.44607843137254904]</td>\n",
       "      <td>44.607843</td>\n",
       "    </tr>\n",
       "    <tr>\n",
       "      <th>106</th>\n",
       "      <td>8</td>\n",
       "      <td>toyota:hiace</td>\n",
       "      <td>4.600000e+06</td>\n",
       "      <td>[0.4397496087636933]</td>\n",
       "      <td>43.974961</td>\n",
       "    </tr>\n",
       "    <tr>\n",
       "      <th>99</th>\n",
       "      <td>8</td>\n",
       "      <td>suzuki:v</td>\n",
       "      <td>1.150000e+06</td>\n",
       "      <td>[0.35294117647058826]</td>\n",
       "      <td>35.294118</td>\n",
       "    </tr>\n",
       "  </tbody>\n",
       "</table>\n",
       "</div>"
      ],
      "text/plain": [
       "     date               brand         price                  check  pct_change\n",
       "139     9       mercedes:c180  3.100000e+06   [0.4090909090909091]   40.909091\n",
       "129     9              ford:v  4.250000e+06   [0.3229571984435798]   32.295720\n",
       "145     9        suzuki:dzire  1.884000e+06  [0.29218106995884774]   29.218107\n",
       "140     9  mitsubishi:attrage  2.276667e+06  [0.28625235404896415]   28.625235\n",
       "120     9               bmw:v  2.200000e+06   [0.2222222222222222]   22.222222\n",
       "89      8       mercedes:c180  2.200000e+06                  [1.2]  120.000000\n",
       "80      8       hyundai:grand  3.641667e+06   [0.5279720279720278]   52.797203\n",
       "112     8        toyota:range  5.900000e+06  [0.44607843137254904]   44.607843\n",
       "106     8        toyota:hiace  4.600000e+06   [0.4397496087636933]   43.974961\n",
       "99      8            suzuki:v  1.150000e+06  [0.35294117647058826]   35.294118"
      ]
     },
     "execution_count": 53,
     "metadata": {},
     "output_type": "execute_result"
    }
   ],
   "source": [
    "rp[\"brand\"] = rp[\"make\"] + \":\" + rp[\"model\"]\n",
    "brand = rp[\"brand\"].unique()\n",
    "rbp = rp.groupby([rp.index.month,\"brand\"])[\"price\"].mean().reset_index()\n",
    "rbp[\"check\"] = rbp.apply(lambda x: \n",
    "                       (rbp[(rbp[\"date\"]==x[\"date\"]) & (rbp[\"brand\"]==x[\"brand\"])][\"price\"].values\n",
    "                       -\n",
    "                       rbp[(rbp[\"date\"]==x[\"date\"]-1) & (rbp[\"brand\"]==x[\"brand\"])][\"price\"].values)\n",
    "                       /\n",
    "                       rbp[(rbp[\"date\"]==x[\"date\"]-1) & (rbp[\"brand\"]==x[\"brand\"])][\"price\"].values \n",
    "                       \n",
    "                       , axis  = 1 )\n",
    "rbp[\"pct_change\"] = rbp[\"check\"].apply(lambda x: x[0]*100 if len(x)!=0 else np.nan)\n",
    "rbp.dropna(inplace = True)\n",
    "rb_data = pd.concat([rbp[rbp[\"date\"]==x].sort_values(\"pct_change\",ascending = False).head() for x in [7,8,9]]).sort_values([\"date\",\"pct_change\"],ascending = False)\n",
    "rb_data"
   ]
  },
  {
   "cell_type": "code",
   "execution_count": null,
   "id": "ba6013e9",
   "metadata": {},
   "outputs": [],
   "source": []
  }
 ],
 "metadata": {
  "kernelspec": {
   "display_name": "Python 3 (ipykernel)",
   "language": "python",
   "name": "python3"
  },
  "language_info": {
   "codemirror_mode": {
    "name": "ipython",
    "version": 3
   },
   "file_extension": ".py",
   "mimetype": "text/x-python",
   "name": "python",
   "nbconvert_exporter": "python",
   "pygments_lexer": "ipython3",
   "version": "3.9.7"
  }
 },
 "nbformat": 4,
 "nbformat_minor": 5
}
